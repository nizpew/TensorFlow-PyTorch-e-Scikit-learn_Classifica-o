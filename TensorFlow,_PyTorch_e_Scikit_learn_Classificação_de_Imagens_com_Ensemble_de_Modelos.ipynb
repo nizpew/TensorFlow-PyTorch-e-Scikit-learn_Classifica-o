{
  "nbformat": 4,
  "nbformat_minor": 0,
  "metadata": {
    "colab": {
      "provenance": []
    },
    "kernelspec": {
      "name": "python3",
      "display_name": "Python 3"
    },
    "language_info": {
      "name": "python"
    }
  },
  "cells": [
    {
      "cell_type": "code",
      "source": [
        "'''Projeto: Classificação de Imagens com Ensemble de Modelos\n",
        "\n",
        "Descrição:\n",
        "O objetivo do projeto é construir um sistema de classificação de imagens que utiliza modelos treinados em TensorFlow e PyTorch. O ensemble final será integrado e avaliado usando Scikit-learn.\n",
        "\n",
        "Etapas do Projeto'''"
      ],
      "metadata": {
        "colab": {
          "base_uri": "https://localhost:8080/",
          "height": 53
        },
        "id": "a-Vay_2Gp6AV",
        "outputId": "af69b530-c00d-4960-ff48-80e40e6edb63"
      },
      "execution_count": 14,
      "outputs": [
        {
          "output_type": "execute_result",
          "data": {
            "text/plain": [
              "'Projeto: Classificação de Imagens com Ensemble de Modelos\\n\\nDescrição:\\nO objetivo do projeto é construir um sistema de classificação de imagens que utiliza modelos treinados em TensorFlow e PyTorch. O ensemble final será integrado e avaliado usando Scikit-learn.\\n\\nEtapas do Projeto'"
            ],
            "application/vnd.google.colaboratory.intrinsic+json": {
              "type": "string"
            }
          },
          "metadata": {},
          "execution_count": 14
        }
      ]
    },
    {
      "cell_type": "markdown",
      "source": [
        "1. Pré-processamento dos Dados (Scikit-learn)\n"
      ],
      "metadata": {
        "id": "DyOhXnsMp4ud"
      }
    },
    {
      "cell_type": "code",
      "execution_count": 15,
      "metadata": {
        "id": "MF2U2CKfntQQ"
      },
      "outputs": [],
      "source": [
        "\n",
        "\n",
        "#Usar o Scikit-learn para carregar e dividir o dataset (ex.: CIFAR-10 ou um dataset customizado).\n",
        "#Normalizar as imagens e aplicar técnicas de aumento de dados, se necessário.\n",
        "from sklearn.model_selection import train_test_split\n",
        "from sklearn.preprocessing import StandardScaler\n",
        "from tensorflow.keras.datasets import cifar10\n",
        "\n",
        "# Carregar dataset\n",
        "(X_train, y_train), (X_test, y_test) = cifar10.load_data()\n",
        "\n",
        "# Normalizar os dados\n",
        "X_train, X_test = X_train / 255.0, X_test / 255.0\n",
        "\n",
        "# Dividir em treino/validação\n",
        "X_train, X_val, y_train, y_val = train_test_split(X_train, y_train, test_size=0.2, random_state=42)\n",
        "\n"
      ]
    },
    {
      "cell_type": "markdown",
      "source": [
        "2. Modelo com TensorFlow\n"
      ],
      "metadata": {
        "id": "nTOsWVQWqBtk"
      }
    },
    {
      "cell_type": "code",
      "source": [
        "#Criar e treinar um modelo de rede neural convolucional (CNN) usando TensorFlow/Keras.\n",
        "import tensorflow as tf\n",
        "from tensorflow.keras import layers, models\n",
        "\n",
        "# Definir o modelo\n",
        "model_tf = models.Sequential([\n",
        "    layers.Conv2D(32, (3, 3), activation='relu', input_shape=(32, 32, 3)),\n",
        "    layers.MaxPooling2D((2, 2)),\n",
        "    layers.Conv2D(64, (3, 3), activation='relu'),\n",
        "    layers.MaxPooling2D((2, 2)),\n",
        "    layers.Flatten(),\n",
        "    layers.Dense(64, activation='relu'),\n",
        "    layers.Dense(10, activation='softmax')\n",
        "])\n",
        "\n",
        "# Compilar e treinar\n",
        "model_tf.compile(optimizer='adam', loss='sparse_categorical_crossentropy', metrics=['accuracy'])\n",
        "model_tf.fit(X_train, y_train, epochs=10, validation_data=(X_val, y_val))\n",
        "\n"
      ],
      "metadata": {
        "colab": {
          "base_uri": "https://localhost:8080/"
        },
        "id": "tnk9zi54p_00",
        "outputId": "8489bf9e-ccb8-4696-b40b-55bbb8f3854a"
      },
      "execution_count": null,
      "outputs": [
        {
          "output_type": "stream",
          "name": "stdout",
          "text": [
            "Epoch 1/10\n",
            "\u001b[1m1250/1250\u001b[0m \u001b[32m━━━━━━━━━━━━━━━━━━━━\u001b[0m\u001b[37m\u001b[0m \u001b[1m59s\u001b[0m 45ms/step - accuracy: 0.3549 - loss: 1.7567 - val_accuracy: 0.5424 - val_loss: 1.2886\n",
            "Epoch 2/10\n",
            "\u001b[1m1250/1250\u001b[0m \u001b[32m━━━━━━━━━━━━━━━━━━━━\u001b[0m\u001b[37m\u001b[0m \u001b[1m78s\u001b[0m 42ms/step - accuracy: 0.5768 - loss: 1.1876 - val_accuracy: 0.6115 - val_loss: 1.0904\n",
            "Epoch 3/10\n",
            "\u001b[1m1250/1250\u001b[0m \u001b[32m━━━━━━━━━━━━━━━━━━━━\u001b[0m\u001b[37m\u001b[0m \u001b[1m82s\u001b[0m 42ms/step - accuracy: 0.6384 - loss: 1.0352 - val_accuracy: 0.6291 - val_loss: 1.0601\n",
            "Epoch 4/10\n",
            "\u001b[1m1250/1250\u001b[0m \u001b[32m━━━━━━━━━━━━━━━━━━━━\u001b[0m\u001b[37m\u001b[0m \u001b[1m79s\u001b[0m 40ms/step - accuracy: 0.6706 - loss: 0.9459 - val_accuracy: 0.6350 - val_loss: 1.0382\n",
            "Epoch 5/10\n",
            "\u001b[1m1131/1250\u001b[0m \u001b[32m━━━━━━━━━━━━━━━━━━\u001b[0m\u001b[37m━━\u001b[0m \u001b[1m4s\u001b[0m 37ms/step - accuracy: 0.6918 - loss: 0.8761"
          ]
        }
      ]
    },
    {
      "cell_type": "markdown",
      "source": [
        "3. Modelo com PyTorch\n"
      ],
      "metadata": {
        "id": "x0RvhQgkqa9s"
      }
    },
    {
      "cell_type": "code",
      "source": [
        "#Treinar um modelo CNN similar usando PyTorch.\n",
        "import torch\n",
        "import torch.nn as nn\n",
        "import torch.optim as optim\n",
        "from torch.utils.data import DataLoader, TensorDataset\n",
        "\n",
        "# Preparar os dados para PyTorch\n",
        "train_dataset = TensorDataset(torch.tensor(X_train).permute(0, 3, 1, 2), torch.tensor(y_train).squeeze())\n",
        "train_loader = DataLoader(train_dataset, batch_size=64, shuffle=True)\n",
        "\n",
        "# Definir o modelo\n",
        "class CNN(nn.Module):\n",
        "    def __init__(self):\n",
        "        super(CNN, self).__init__()\n",
        "        self.conv1 = nn.Conv2d(3, 32, kernel_size=3, activation='relu')\n",
        "        self.pool = nn.MaxPool2d(2, 2)\n",
        "        self.conv2 = nn.Conv2d(32, 64, kernel_size=3, activation='relu')\n",
        "        self.fc1 = nn.Linear(64 * 6 * 6, 64)\n",
        "        self.fc2 = nn.Linear(64, 10)\n",
        "\n",
        "    def forward(self, x):\n",
        "        x = self.pool(torch.relu(self.conv1(x)))\n",
        "        x = self.pool(torch.relu(self.conv2(x)))\n",
        "        x = x.view(-1, 64 * 6 * 6)\n",
        "        x = torch.relu(self.fc1(x))\n",
        "        x = self.fc2(x)\n",
        "        return x\n",
        "\n",
        "model_pt = CNN()\n",
        "criterion = nn.CrossEntropyLoss()\n",
        "optimizer = optim.Adam(model_pt.parameters(), lr=0.001)\n",
        "\n",
        "# Treinar o modelo\n",
        "for epoch in range(10):\n",
        "    for inputs, labels in train_loader:\n",
        "        optimizer.zero_grad()\n",
        "        outputs = model_pt(inputs)\n",
        "        loss = criterion(outputs, labels)\n",
        "        loss.backward()\n",
        "        optimizer.step()\n",
        "\n"
      ],
      "metadata": {
        "id": "uwZ9R5S1qZXc"
      },
      "execution_count": null,
      "outputs": []
    },
    {
      "cell_type": "markdown",
      "source": [
        "4. Ensemble com Scikit-learn\n"
      ],
      "metadata": {
        "id": "gP_-fRgaqHrc"
      }
    },
    {
      "cell_type": "code",
      "source": [
        "#Combinar as previsões dos dois modelos usando um ensemble (ex.: Random Forest ou Voting Classifier).\n",
        "from sklearn.ensemble import VotingClassifier\n",
        "from sklearn.metrics import accuracy_score\n",
        "\n",
        "# Obter previsões dos modelos\n",
        "y_pred_tf = model_tf.predict(X_test).argmax(axis=1)\n",
        "y_pred_pt = model_pt(torch.tensor(X_test).permute(0, 3, 1, 2).float()).detach().numpy"
      ],
      "metadata": {
        "id": "n2u4KySMqGsM"
      },
      "execution_count": null,
      "outputs": []
    },
    {
      "cell_type": "markdown",
      "source": [
        "Gráficos"
      ],
      "metadata": {
        "id": "HKOwM_o3zx2a"
      }
    },
    {
      "cell_type": "code",
      "source": [
        "import matplotlib.pyplot as plt\n",
        "from sklearn.metrics import confusion_matrix, ConfusionMatrixDisplay, accuracy_score\n",
        "import numpy as np\n",
        "import torch\n",
        "\n",
        "# 1. Previsões dos modelos\n",
        "# TensorFlow já está em y_pred_tf\n",
        "# PyTorch precisa ser transformado com argmax\n",
        "y_pred_pt_logits = model_pt(torch.tensor(X_test).permute(0, 3, 1, 2).float())\n",
        "y_pred_pt = y_pred_pt_logits.detach().numpy().argmax(axis=1)\n",
        "\n",
        "# Ensemble com votação majoritária\n",
        "y_pred_ensemble = np.array([\n",
        "    np.bincount([tf, pt]).argmax()\n",
        "    for tf, pt in zip(y_pred_tf, y_pred_pt)\n",
        "])\n",
        "\n",
        "# Corrigir formato de y_test\n",
        "y_test = y_test.squeeze()\n",
        "\n",
        "# 2. Matrizes de Confusão\n",
        "fig, axes = plt.subplots(1, 3, figsize=(18, 5))\n",
        "for ax, y_pred, title in zip(\n",
        "    axes,\n",
        "    [y_pred_tf, y_pred_pt, y_pred_ensemble],\n",
        "    [\"TensorFlow\", \"PyTorch\", \"Ensemble\"]\n",
        "):\n",
        "    cm = confusion_matrix(y_test, y_pred)\n",
        "    disp = ConfusionMatrixDisplay(cm)\n",
        "    disp.plot(ax=ax, colorbar=False)\n",
        "    ax.set_title(f\"Matriz de Confusão - {title}\")\n",
        "plt.tight_layout()\n",
        "plt.show()\n",
        "\n",
        "# 3. Acurácia Final\n",
        "acc_tf = accuracy_score(y_test, y_pred_tf)\n",
        "acc_pt = accuracy_score(y_test, y_pred_pt)\n",
        "acc_ensemble = accuracy_score(y_test, y_pred_ensemble)\n",
        "\n",
        "plt.figure(figsize=(6, 5))\n",
        "plt.bar([\"TensorFlow\", \"PyTorch\", \"Ensemble\"], [acc_tf, acc_pt, acc_ensemble], color=[\"blue\", \"orange\", \"green\"])\n",
        "plt.ylabel(\"Acurácia\")\n",
        "plt.title(\"Comparação Final de Acurácia\")\n",
        "plt.ylim(0, 1)\n",
        "plt.grid(axis=\"y\")\n",
        "plt.tight_layout()\n",
        "plt.show()\n"
      ],
      "metadata": {
        "id": "XSuLQo65zr9p"
      },
      "execution_count": null,
      "outputs": []
    }
  ]
}